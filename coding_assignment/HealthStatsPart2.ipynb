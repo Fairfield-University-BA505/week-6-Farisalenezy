{
 "cells": [
  {
   "cell_type": "markdown",
   "metadata": {},
   "source": [
    "# Health Stats Part 1: Waist 2 Hip Ratios"
   ]
  },
  {
   "cell_type": "markdown",
   "metadata": {},
   "source": [
    "\n",
    "<!--- Write an explanation of the Waist To Hips Ratio statistic used by health professionals. Please include an explanation of what it is used for, exactly how it is calculated, and how to interpret the results. Note: Formmatting matters. Make this as professional as you can using Markdown.  --->\n",
    "\n",
    "<!--- feel free to use any web resources, including [Wikipedia](https://en.wikipedia.org/wiki/Waist%E2%80%93hip_ratio) or any other resources that you can find online. Just MAKE SURE you provide a link to every resource you decide to use. --->\n",
    "\n",
    "<!--- Including the formula, or that fancy diagram/table you see on wikipedia is DEFINITELY a good idea! How? The LaTeX equations section in [This link](https://jupyter-notebook.readthedocs.io/en/stable/examples/Notebook/Working%20With%20Markdown%20Cells.html) might help. --->\n",
    "\n",
    "<!--- For extra points, try to create a table similar to the one on the wikipedia page on your own. --->\n",
    "\n",
    "**The waist-hip ratio or waist-to-hip ratio (WHR)**\n",
    "is the dimensionless ratio of the circumference of the waist to that of the hips. <br>This is calculated as waist measurement divided by hip measurement <br>  **$ ratio_{w2h} = \\frac{w}{h}. $**<br> For example, a person with a 30″  waist and 38″  hips has a waist-hip ratio of about 0.78.\n",
    "The **WHR** has been used as an indicator or measure of health, and the risk of developing serious health conditions. (with different optimal values in males and females).\n",
    "\n",
    "How Do We  Take Measurements?\n",
    "======\n",
    "\n",
    "- the waist circumference: should be measured at the midpoint between the lower margin of the last palpable ribs and the top of the iliac crest, using a stretch‐resistant tape that provides a constant 100 g tension.<br>\n",
    "\n",
    "- the Hip circumference should be measured around the widest portion of the buttocks, with the tape parallel to the floor.\n",
    "\n",
    "##### *note that every organizations use slightly different standards*\n",
    "\n",
    " Indicator of Health:\n",
    "======\n",
    "\n",
    "- The WHR is used as a measurement of obesity, which in turn is a possible indicator of other more serious health conditions. \n",
    "- The WHR has been found to be a more efficient predictor of mortality in older people (>75 years of age) than waist circumference or BMI.\n",
    "- Adults with growth hormone deficiencies also have increased WHRs.\n",
    "-  Increased WHRs for Men and  women causes problems with fertility.\n",
    "- The  World Health Organization states that abdominal obesity is defined as a waist-hip ratio above 0.90 for males and above 0.85 for females\n",
    "- The National Institute of Diabetes, Digestive and Kidney Diseases (NIDDK) states that women with waist-hip ratios of more than 0.8, and men with more than 1.0, are at increased\n",
    "health risk because of their fat distribution.\n",
    "\n",
    "\n",
    "#### The Table Below Shows How Different Organizations use W2H Ratio to Assess a Person Weight :\n",
    "\n",
    "\n",
    "    \n",
    "<style type=\"text/css\">\n",
    ".tg  {border-collapse:collapse;border-spacing:0;}\n",
    ".tg td{font-family:Arial, sans-serif;font-size:14px;padding:10px 5px;border-style:solid;border-width:1px;overflow:hidden;word-break:normal;border-color:black;}\n",
    ".tg th{font-family:Arial, sans-serif;font-size:14px;font-weight:normal;padding:10px 5px;border-style:solid;border-width:1px;overflow:hidden;word-break:normal;border-color:black;}\n",
    ".tg .tg-uqo3{background-color:#efefef;text-align:center;vertical-align:top}\n",
    ".tg .tg-ke2d{background-color:#9b9b9b;text-align:center;vertical-align:middle}\n",
    ".tg .tg-nkdd{background-color:#c0c0c0;text-align:center;vertical-align:middle}\n",
    ".tg .tg-v4j2{font-weight:bold;background-color:#c0c0c0;text-align:center;vertical-align:middle}\n",
    ".tg .tg-u1yq{font-weight:bold;background-color:#c0c0c0;text-align:center;vertical-align:top}\n",
    ".tg .tg-2nhx{background-color:#9b9b9b;text-align:center;vertical-align:top}\n",
    ".tg .tg-y0n7{background-color:#efefef;text-align:center;vertical-align:middle}\n",
    "</style>\n",
    "<table class=\"tg\" style=\"undefined;table-layout: fixed; width: 556px\">\n",
    "<colgroup>\n",
    "<col style=\"width: 118px\">\n",
    "<col style=\"width: 88px\">\n",
    "<col style=\"width: 91px\">\n",
    "<col style=\"width: 61px\">\n",
    "<col style=\"width: 68px\">\n",
    "<col style=\"width: 61px\">\n",
    "<col style=\"width: 69px\">\n",
    "</colgroup>\n",
    "  <tr>\n",
    "    <th class=\"tg-nkdd\" rowspan=\"2\"></th>\n",
    "    <th class=\"tg-v4j2\" colspan=\"2\">DGSP</th>\n",
    "    <th class=\"tg-v4j2\" colspan=\"2\"><span style=\"font-weight:700\">WHO</span></th>\n",
    "    <th class=\"tg-v4j2\" colspan=\"2\"><span style=\"font-weight:700\">NIDDK</span></th>\n",
    "  </tr>\n",
    "  <tr>\n",
    "    <td class=\"tg-v4j2\"><span style=\"font-weight:700\">Women</span></td>\n",
    "    <td class=\"tg-v4j2\"><span style=\"font-weight:700\">Men</span></td>\n",
    "    <td class=\"tg-v4j2\"><span style=\"font-weight:700\">Women</span></td>\n",
    "    <td class=\"tg-v4j2\"><span style=\"font-weight:700\">Men</span></td>\n",
    "    <td class=\"tg-v4j2\"><span style=\"font-weight:700\">Women</span></td>\n",
    "    <td class=\"tg-v4j2\"><span style=\"font-weight:700\">Men</span></td>\n",
    "    \n",
    "  </tr>\n",
    "  <tr>\n",
    "    <td class=\"tg-v4j2\"><span style=\"font-weight:700\" > under-weight</span></td>\n",
    "    <td class=\"tg-ke2d\">?</td>\n",
    "    <td class=\"tg-ke2d\">?</td>\n",
    "    <td class=\"tg-ke2d\">?</td>\n",
    "    <td class=\"tg-ke2d\">?</td>\n",
    "    <td class=\"tg-ke2d\">?</td>\n",
    "    <td class=\"tg-2nhx\">?</td>\n",
    "  </tr>\n",
    "  <tr>\n",
    "    <td class=\"tg-v4j2\"><span style=\"font-weight:700\" > normal weight</span></td>\n",
    "    <td class=\"tg-y0n7\">&lt; 0.80</td>\n",
    "    <td class=\"tg-y0n7\">&lt; 0.90</td>\n",
    "    <td class=\"tg-ke2d\">?</td>\n",
    "    <td class=\"tg-ke2d\">?</td>\n",
    "    <td class=\"tg-ke2d\">?</td>\n",
    "    <td class=\"tg-2nhx\">?</td>\n",
    "  </tr>\n",
    "  <tr>\n",
    "    <td class=\"tg-v4j2\"><span style=\"font-weight:700\" >over-weight</span></td>\n",
    "    <td class=\"tg-y0n7\">0.80–0.84</td>\n",
    "    <td class=\"tg-y0n7\">0.90–0.99</td>\n",
    "    <td class=\"tg-ke2d\">?</td>\n",
    "    <td class=\"tg-ke2d\">?</td>\n",
    "    <td class=\"tg-ke2d\">?</td>\n",
    "    <td class=\"tg-2nhx\">?</td>\n",
    "  </tr>\n",
    "  <tr>\n",
    "    <td class=\"tg-u1yq\"><span style=\"font-weight:700\" ><a href=\"https://en.wikipedia.org/wiki/Obesity\">obesity</a></span></td>\n",
    "    <td class=\"tg-uqo3\">&gt; 0.85</td>\n",
    "    <td class=\"tg-uqo3\">&gt; 1.00</td>\n",
    "    <td class=\"tg-uqo3\">&gt; 0.85</td>\n",
    "    <td class=\"tg-uqo3\">&gt; 0.90</td>\n",
    "    <td class=\"tg-uqo3\">&gt; 0.80</td>\n",
    "    <td class=\"tg-uqo3\">&gt; 1.00</td>\n",
    "  </tr>\n",
    "</table>\n",
    "    \n",
    "    \n",
    "    \n",
    "\n",
    "    \n",
    "###### *Using the Markdown gave me a broken table  in Github for some reason so I used this [Website](https://www.tablesgenerator.com/html_tables) to Generate a table using HTML code*\n",
    "\n",
    "\n",
    "\n",
    "\n",
    "\n",
    "\n",
    "\n",
    "\n",
    "    \n",
    "[1][Source]( https://en.wikipedia.org/wiki/Waist%E2%80%93hip_ratio)\n",
    "\n",
    "    \n",
    "##### *Below a Youtube Video on How we Obtain Waist and Hip Measurements*:\n",
    "\n",
    "<a href=\"http://www.youtube.com/watch?feature=player_embedded&v=vxF8_3ODMlo\n",
    "\" target=\"_blank\"><img src=\"http://img.youtube.com/vi/vxF8_3ODMlo/0.jpg\" \n",
    "alt=\"vxF8_3ODMlo\" width=\"240\" height=\"180\" border=\"10\" /></a>\n",
    "    "
   ]
  },
  {
   "cell_type": "markdown",
   "metadata": {},
   "source": [
    "## Source Data "
   ]
  },
  {
   "cell_type": "markdown",
   "metadata": {},
   "source": [
    "<!--- Replace the text below with a Markdown bullet list that defines the columns of the CSV file. Be sure to indicate the data type for each column. --->\n",
    "\n",
    "<!--- Example can be: ID, unique identifier of each person, integer. Remember you need to put this into a bullet list! How? [This link](https://jupyter-notebook.readthedocs.io/en/stable/examples/Notebook/Working%20With%20Markdown%20Cells.html) might help. --->\n",
    "# The columns of the CSV file\n",
    "<!--- These two markdown cells are required in almost any analytical report. --->\n",
    "- ID: uniquie identifier of each person, integer\n",
    "- Waist: measured at the midpoint between the lower margin of the last palpable ribs and the top of the iliac crest, integer\n",
    "- Hip: Measured around the widest portion of the buttocks, with the tape parallel to the floor., integer\n",
    "- Gender: Defines the sex of each person measured, string\n",
    "\n",
    "\n"
   ]
  },
  {
   "cell_type": "markdown",
   "metadata": {},
   "source": [
    "## Data Import"
   ]
  },
  {
   "cell_type": "code",
   "execution_count": 1,
   "metadata": {
    "collapsed": true
   },
   "outputs": [],
   "source": [
    "# Goal: Extract the data from the file\n",
    "\n",
    "# opens the w2h_data.csv for reading\n",
    "f = open(\"w2h_data.csv\", \"r\")\n",
    "\n",
    "# loads the file into a list of strings, one string per line\n",
    "raw_lines = list(f)\n",
    "\n",
    "# closes the file\n",
    "f.close()"
   ]
  },
  {
   "cell_type": "code",
   "execution_count": 2,
   "metadata": {
    "collapsed": true
   },
   "outputs": [
    {
     "name": "stdout",
     "output_type": "stream",
     "text": [
      "[{'ID': 1, 'Waist': 30, 'Hip': 32, 'Gender': 'M'}, {'ID': 2, 'Waist': 32, 'Hip': 37, 'Gender': 'M'}, {'ID': 3, 'Waist': 30, 'Hip': 36, 'Gender': 'M'}, {'ID': 4, 'Waist': 33, 'Hip': 39, 'Gender': 'M'}, {'ID': 5, 'Waist': 29, 'Hip': 33, 'Gender': 'M'}, {'ID': 6, 'Waist': 32, 'Hip': 38, 'Gender': 'M'}, {'ID': 7, 'Waist': 33, 'Hip': 42, 'Gender': 'M'}, {'ID': 8, 'Waist': 30, 'Hip': 40, 'Gender': 'M'}, {'ID': 9, 'Waist': 30, 'Hip': 37, 'Gender': 'M'}, {'ID': 10, 'Waist': 32, 'Hip': 39, 'Gender': 'M'}, {'ID': 11, 'Waist': 24, 'Hip': 35, 'Gender': 'F'}, {'ID': 12, 'Waist': 25, 'Hip': 37, 'Gender': 'F'}, {'ID': 13, 'Waist': 24, 'Hip': 37, 'Gender': 'F'}, {'ID': 14, 'Waist': 22, 'Hip': 34, 'Gender': 'F'}, {'ID': 15, 'Waist': 26, 'Hip': 38, 'Gender': 'F'}, {'ID': 16, 'Waist': 26, 'Hip': 37, 'Gender': 'F'}, {'ID': 17, 'Waist': 25, 'Hip': 38, 'Gender': 'F'}, {'ID': 18, 'Waist': 26, 'Hip': 37, 'Gender': 'F'}, {'ID': 19, 'Waist': 28, 'Hip': 40, 'Gender': 'F'}, {'ID': 20, 'Waist': 23, 'Hip': 35, 'Gender': 'F'}]\n"
     ]
    }
   ],
   "source": [
    "# Goal: Scrub and convert the data, loading it into a new list called rows\n",
    "\n",
    "# Strips out newline '\\n' characters and converts to a list\n",
    "raw_rows = [r.rstrip('\\n').split(',') for r in raw_lines] # <--- Whoa. Why does this work? \n",
    "\n",
    "# Creates a new list, starting with just the column names\n",
    "rows = list() \n",
    "\n",
    "# The first row is the keys wit the column names\n",
    "keys = raw_rows[0];\n",
    "\n",
    "# Convert each row_row, starting with the second\n",
    "for raw_row in raw_rows[1:]:\n",
    "    \n",
    "    # Note: the values in the raw_row list are all strings.\n",
    "    # Create a new list called row that converts each item in raw_row to the right data type  \n",
    "    \n",
    " # make our list into a dictionary \n",
    "    row= {keys[0]:int(raw_row[0]), keys[1]:int(raw_row[1]),keys[2]:int(raw_row[2]),keys[3]:raw_row[3] }\n",
    "    \n",
    "    # Append the new row to the rows list as a dictionary \n",
    "    \n",
    "    rows.append(row) \n",
    "    \n",
    "# from here on out use the rows list instead of raw_rows or raw_lines\n",
    "print(rows)"
   ]
  },
  {
   "cell_type": "markdown",
   "metadata": {},
   "source": [
    "## Calculations"
   ]
  },
  {
   "cell_type": "code",
   "execution_count": 3,
   "metadata": {
    "collapsed": true
   },
   "outputs": [],
   "source": [
    "# Goal: For each row of data calculate and store the w2h_ratio and shape.\n",
    "\n",
    "# Adds columns for the two new variables\n",
    "keys.extend(['W2H Ratio','Shape'])\n",
    "\n",
    "# For each row in the rows list, calculate the waist to hips ratio and shape\n",
    "for row in rows:\n",
    "    # Calculate the w2h_ratio \n",
    "    #define the row['Waist'] as waist  and the row['Hip'] as hip\n",
    "    \n",
    "    waist = float(row['Waist'])\n",
    "    hip = float(row['Hip'])\n",
    "    \n",
    "    w2h_ratio = round( waist / hip,3)# use the round function to round to the 3 decimal places to make it nicer\n",
    "       \n",
    " \n",
    "   \n",
    "    # defining the gender row\n",
    "    \n",
    "    gender = row['Gender']\n",
    "    \n",
    "    # Based on the ratio and the gender, set the variable shape to either 'apple' or 'pear'\n",
    "    #shape = 'Pear' # CHECK THIS; compare whether you did this in part 1\n",
    "    \n",
    "    # A Pear shape would be either a woman with 0.80 or less w2h ratio and a man with 0.90 or less w2h ratio\n",
    "    # An Apple shape shape would be either a woman with more than 0.80  w2h ratio and a man with more than 0.90  w2h ratio\n",
    "    # We use the if function and the and function to get the desired result\n",
    "    \n",
    "    if ((gender =='M' and w2h_ratio > 0.9) or (gender == 'F' and w2h_ratio > 0.8)) :\n",
    "        shape = \"Apple\"\n",
    "    else:\n",
    "        shape = \"Pear\"\n",
    "    \n",
    "    # Add the new data to the end of the row\n",
    "    row['W2H Ratio'] = w2h_ratio\n",
    "    row['Shape'] = shape # note: += is shorthand for the extend method used above\n",
    "    \n",
    "    \n",
    "    "
   ]
  },
  {
   "cell_type": "markdown",
   "metadata": {},
   "source": [
    "## Output"
   ]
  },
  {
   "cell_type": "code",
   "execution_count": 4,
   "metadata": {
    "collapsed": false
   },
   "outputs": [
    {
     "data": {
      "text/html": [
       "<table><tr><th><tr><th>ID</th><th>Waist</th><th>Hip</th><th>Gender</th><th>W2H Ratio</th><th>Shape</th></tr></th></tr><tr><td>1</td><td>30</td><td>32</td><td>M</td><td>0.938</td><td>Apple</td></tr><tr><td>2</td><td>32</td><td>37</td><td>M</td><td>0.865</td><td>Pear</td></tr><tr><td>3</td><td>30</td><td>36</td><td>M</td><td>0.833</td><td>Pear</td></tr><tr><td>4</td><td>33</td><td>39</td><td>M</td><td>0.846</td><td>Pear</td></tr><tr><td>5</td><td>29</td><td>33</td><td>M</td><td>0.879</td><td>Pear</td></tr><tr><td>6</td><td>32</td><td>38</td><td>M</td><td>0.842</td><td>Pear</td></tr><tr><td>7</td><td>33</td><td>42</td><td>M</td><td>0.786</td><td>Pear</td></tr><tr><td>8</td><td>30</td><td>40</td><td>M</td><td>0.75</td><td>Pear</td></tr><tr><td>9</td><td>30</td><td>37</td><td>M</td><td>0.811</td><td>Pear</td></tr><tr><td>10</td><td>32</td><td>39</td><td>M</td><td>0.821</td><td>Pear</td></tr><tr><td>11</td><td>24</td><td>35</td><td>F</td><td>0.686</td><td>Pear</td></tr><tr><td>12</td><td>25</td><td>37</td><td>F</td><td>0.676</td><td>Pear</td></tr><tr><td>13</td><td>24</td><td>37</td><td>F</td><td>0.649</td><td>Pear</td></tr><tr><td>14</td><td>22</td><td>34</td><td>F</td><td>0.647</td><td>Pear</td></tr><tr><td>15</td><td>26</td><td>38</td><td>F</td><td>0.684</td><td>Pear</td></tr><tr><td>16</td><td>26</td><td>37</td><td>F</td><td>0.703</td><td>Pear</td></tr><tr><td>17</td><td>25</td><td>38</td><td>F</td><td>0.658</td><td>Pear</td></tr><tr><td>18</td><td>26</td><td>37</td><td>F</td><td>0.703</td><td>Pear</td></tr><tr><td>19</td><td>28</td><td>40</td><td>F</td><td>0.7</td><td>Pear</td></tr><tr><td>20</td><td>23</td><td>35</td><td>F</td><td>0.657</td><td>Pear</td></tr></table>"
      ],
      "text/plain": [
       "<IPython.core.display.HTML object>"
      ]
     },
     "metadata": {},
     "output_type": "display_data"
    }
   ],
   "source": [
    "# Goal: pretty print the rows as an HTML table\n",
    "\n",
    "# Note: this works, but we can do this much better with pandas\n",
    "html_table = '<table><tr><th>'\n",
    "html_table += '<tr><th>' + '</th><th>'.join(keys) + '</th></tr>'\n",
    "html_table += '</th></tr>'\n",
    "for row in rows:\n",
    "    html_table += \"<tr><td>\"\n",
    "    html_table += \"</td><td>\".join(str(v) for v in row.values())\n",
    "    html_table += \"</td></tr>\"\n",
    "html_table += \"</table>\"\n",
    "\n",
    "from IPython.display import HTML, display, Markdown\n",
    "display(HTML(html_table))\n",
    "\n",
    "\n",
    "\n",
    "\n",
    "html = '<html><table border=\"1\"></th><th>'+html_table + '</th></tr>'# puts borders around the html_table\n",
    "\n",
    "# i  followed this tutorial https://www.guru99.com/reading-and-writing-files-in-python.html\n",
    "print_html = open('StatsResults.html','w') \n",
    "\n",
    "print_html.write(html)\n",
    "\n",
    "print_html.close ()\n",
    "\n",
    "\n",
    "\n"
   ]
  },
  {
   "cell_type": "code",
   "execution_count": null,
   "metadata": {},
   "outputs": [],
   "source": []
  },
  {
   "cell_type": "code",
   "execution_count": null,
   "metadata": {
    "collapsed": true
   },
   "outputs": [],
   "source": []
  }
 ],
 "metadata": {
  "kernelspec": {
   "display_name": "Python 3",
   "language": "python",
   "name": "python3"
  },
  "language_info": {
   "codemirror_mode": {
    "name": "ipython",
    "version": 3
   },
   "file_extension": ".py",
   "mimetype": "text/x-python",
   "name": "python",
   "nbconvert_exporter": "python",
   "pygments_lexer": "ipython3",
   "version": "3.6.7"
  }
 },
 "nbformat": 4,
 "nbformat_minor": 2
}
